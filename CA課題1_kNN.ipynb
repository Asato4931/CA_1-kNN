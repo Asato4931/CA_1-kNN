{
  "cells": [
    {
      "cell_type": "markdown",
      "metadata": {
        "id": "view-in-github",
        "colab_type": "text"
      },
      "source": [
        "<a href=\"https://colab.research.google.com/github/Asato4931/CA_1-kNN/blob/main/CA%E8%AA%B2%E9%A1%8C1_kNN.ipynb\" target=\"_parent\"><img src=\"https://colab.research.google.com/assets/colab-badge.svg\" alt=\"Open In Colab\"/></a>"
      ]
    },
    {
      "cell_type": "code",
      "execution_count": null,
      "metadata": {
        "colab": {
          "base_uri": "https://localhost:8080/"
        },
        "id": "Jj_cQ8olsK9J",
        "outputId": "efb3e05d-5054-4d86-8862-4c8663a58ea2"
      },
      "outputs": [
        {
          "output_type": "stream",
          "name": "stdout",
          "text": [
            "0.610994931109562\n"
          ]
        }
      ],
      "source": [
        "from sklearn import preprocessing\n",
        "import numpy as np\n",
        "from sklearn.preprocessing import OneHotEncoder\n",
        "from sklearn.preprocessing import StandardScaler\n",
        "from sklearn.neighbors import KNeighborsClassifier\n",
        "import matplotlib.pyplot as plt\n",
        "from sklearn import metrics\n",
        "import pandas as pd\n",
        "######################データの前処理#####################\n",
        "\n",
        "#ヘッダー無しのデータ読み込み\n",
        "data = pd.read_csv(\"C:/Users/81806/Desktop/CA課題1/covtype.data\", header=None)\n",
        "\n",
        "x = data.loc[:, 0:9]\n",
        "x2 = data.loc[:, 10:53]\n",
        "\n",
        "#スケーリングの選択\n",
        "scaler = StandardScaler()\n",
        "\n",
        "#入力をスケーリング\n",
        "scaler.fit(x)\n",
        "\n",
        "x = scaler.transform(x)\n",
        "x = pd.DataFrame(x)\n",
        "x = pd.concat([x,x2],axis=1)\n",
        "\n",
        "#入力データの分割\n",
        "x_train = x[0:464812]\n",
        "x_test = x[464813:581012]\n",
        "\n",
        "y = data.loc[:, 54:54]\n",
        "\n",
        "#ラベルのone-hot表現化\n",
        "enc = OneHotEncoder(categories='auto', sparse_output = False)\n",
        "y = enc.fit_transform(y)\n",
        "\n",
        "#教師データの分割\n",
        "\n",
        "y_train = y[0:464812]\n",
        "y_test = y[464813:581012]\n",
        "\n",
        "\n",
        "###################### kNNの学習 #####################\n",
        "\n",
        "neigh = KNeighborsClassifier(n_neighbors=5)\n",
        "######################モデルの評価#####################\n",
        "y_pred = neigh.predict(x_test)\n",
        "\n",
        "score = metrics.accuracy_score(y_test, y_pred)\n",
        "\n",
        "print(score)\n"
      ]
    }
  ],
  "metadata": {
    "colab": {
      "provenance": [],
      "mount_file_id": "1v5R0iP6YAHtzHAtnVTTDWt83XENEe0L-",
      "authorship_tag": "ABX9TyPQpeygSx66lp+n125F452/",
      "include_colab_link": true
    },
    "kernelspec": {
      "display_name": "Python 3",
      "name": "python3"
    },
    "language_info": {
      "name": "python"
    }
  },
  "nbformat": 4,
  "nbformat_minor": 0
}